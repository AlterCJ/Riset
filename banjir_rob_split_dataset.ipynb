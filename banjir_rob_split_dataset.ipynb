{
  "cells": [
    {
      "cell_type": "markdown",
      "metadata": {
        "id": "Q2vIjabvJ0xN"
      },
      "source": [
        "Mount drive"
      ]
    },
    {
      "cell_type": "code",
      "source": [
        "!google-drive-ocamlfuse -cc"
      ],
      "metadata": {
        "colab": {
          "base_uri": "https://localhost:8080/"
        },
        "id": "q9vLDXZmNTfm",
        "outputId": "c25de8b0-1afb-4948-a39b-50769b15dda3"
      },
      "execution_count": null,
      "outputs": [
        {
          "output_type": "stream",
          "name": "stdout",
          "text": [
            "/bin/bash: google-drive-ocamlfuse: command not found\n"
          ]
        }
      ]
    },
    {
      "cell_type": "code",
      "execution_count": null,
      "metadata": {
        "colab": {
          "base_uri": "https://localhost:8080/"
        },
        "id": "4sfXraSta6n0",
        "outputId": "c6761668-4956-4035-8789-d23f5fcdf392"
      },
      "outputs": [
        {
          "output_type": "stream",
          "name": "stdout",
          "text": [
            "Mounted at /content/drive\n"
          ]
        }
      ],
      "source": [
        "from google.colab import drive\n",
        "drive.mount('/content/drive', force_remount=True)"
      ]
    },
    {
      "cell_type": "code",
      "source": [
        "from google.colab import drive\n",
        "drive.mount('/content/drive')"
      ],
      "metadata": {
        "colab": {
          "base_uri": "https://localhost:8080/"
        },
        "id": "hXTOvpewN6YF",
        "outputId": "5d2ff87e-4f41-4258-9cf1-b53781e29b76"
      },
      "execution_count": null,
      "outputs": [
        {
          "output_type": "stream",
          "name": "stdout",
          "text": [
            "Mounted at /content/drive\n"
          ]
        }
      ]
    },
    {
      "cell_type": "markdown",
      "metadata": {
        "id": "cUFK39xpJtsU"
      },
      "source": [
        "Split image menjadi bagian lebih kecil dan overlap"
      ]
    },
    {
      "cell_type": "code",
      "execution_count": null,
      "metadata": {
        "id": "1C9oR2siH4lN"
      },
      "outputs": [],
      "source": [
        "import cv2\n",
        "import os\n",
        "\n",
        "path_to_img = \"/content/a6.jpg\"\n",
        "img = cv2.imread(path_to_img)\n",
        "img_h, img_w, _ = img.shape\n",
        "split_width = 300\n",
        "split_height = 300\n",
        "\n",
        "\n",
        "def start_points(size, split_size, overlap=0):\n",
        "    points = [0]\n",
        "    stride = int(split_size * (1-overlap))\n",
        "    counter = 1\n",
        "    while True:\n",
        "        pt = stride * counter\n",
        "        if pt + split_size >= size:\n",
        "            points.append(size - split_size)\n",
        "            break\n",
        "        else:\n",
        "            points.append(pt)\n",
        "        counter += 1\n",
        "    return points\n",
        "\n",
        "\n",
        "X_points = start_points(img_w, split_width, 0.5)\n",
        "Y_points = start_points(img_h, split_height, 0.5)\n",
        "\n",
        "count = 764\n",
        "name = 'splitted'\n",
        "frmt = 'jpeg'\n",
        "\n",
        "for i in Y_points:\n",
        "    for j in X_points:\n",
        "        split = img[i:i+split_height, j:j+split_width]\n",
        "        cv2.imwrite('/content/drive/MyDrive/data/Kering/{}_{}.{}'.format(name, count, frmt), split)\n",
        "        count += 1"
      ]
    },
    {
      "cell_type": "markdown",
      "metadata": {
        "id": "7GVFr49YJ2uz"
      },
      "source": [
        "Library untuk split train val test"
      ]
    },
    {
      "cell_type": "code",
      "execution_count": null,
      "metadata": {
        "colab": {
          "base_uri": "https://localhost:8080/"
        },
        "id": "UffiQ-80JVhj",
        "outputId": "5ecaa0b7-5bb2-4083-87e8-3fb77ebcf6a2"
      },
      "outputs": [
        {
          "output_type": "stream",
          "name": "stdout",
          "text": [
            "Looking in indexes: https://pypi.org/simple, https://us-python.pkg.dev/colab-wheels/public/simple/\n",
            "Collecting split_folders\n",
            "  Downloading split_folders-0.5.1-py3-none-any.whl (8.4 kB)\n",
            "Installing collected packages: split-folders\n",
            "Successfully installed split-folders-0.5.1\n"
          ]
        }
      ],
      "source": [
        "pip install split_folders"
      ]
    },
    {
      "cell_type": "markdown",
      "metadata": {
        "id": "HBkhP5mhLVMz"
      },
      "source": [
        "Split dataset menjadi train val test"
      ]
    },
    {
      "cell_type": "code",
      "execution_count": null,
      "metadata": {
        "colab": {
          "base_uri": "https://localhost:8080/"
        },
        "id": "UsSrEMMjJKLj",
        "outputId": "b2a30522-31ea-4647-c41e-8e4b42907cee"
      },
      "outputs": [
        {
          "output_type": "stream",
          "name": "stderr",
          "text": [
            "Copying files: 2410 files [04:34,  8.77 files/s]\n"
          ]
        }
      ],
      "source": [
        "import splitfolders\n",
        "input_folder = \"/content/drive/MyDrive/RISET/Data_banjir_rob/sebelum\"\n",
        "output = \"/content/drive/MyDrive/RISET/Data_banjir_rob/sesudah\" \n",
        "\n",
        "splitfolders.ratio(input_folder, output=output, seed=42, ratio=(.7, .2, .1))"
      ]
    },
    {
      "cell_type": "code",
      "execution_count": null,
      "metadata": {
        "id": "RWHN6HECJS97"
      },
      "outputs": [],
      "source": []
    }
  ],
  "metadata": {
    "colab": {
      "provenance": []
    },
    "kernelspec": {
      "display_name": "Python 3",
      "name": "python3"
    },
    "language_info": {
      "name": "python"
    }
  },
  "nbformat": 4,
  "nbformat_minor": 0
}